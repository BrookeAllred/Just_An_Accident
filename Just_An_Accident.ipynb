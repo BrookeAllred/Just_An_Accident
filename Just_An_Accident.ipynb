{
 "cells": [
  {
   "cell_type": "markdown",
   "id": "fb8c0174-265e-41fc-aad6-5d02cea1eb7e",
   "metadata": {},
   "source": [
    "The first thing we need to do is import the necessary libraries."
   ]
  },
  {
   "cell_type": "code",
   "execution_count": 1,
   "id": "99f0f128-5604-4e44-b524-dd546cf9f020",
   "metadata": {},
   "outputs": [
    {
     "name": "stdout",
     "output_type": "stream",
     "text": [
      "Requirement already satisfied: pandas in c:\\users\\ahbur\\appdata\\local\\programs\\python\\python310\\lib\\site-packages (2.2.3)\n",
      "Requirement already satisfied: numpy>=1.22.4 in c:\\users\\ahbur\\appdata\\local\\programs\\python\\python310\\lib\\site-packages (from pandas) (2.1.3)\n",
      "Requirement already satisfied: python-dateutil>=2.8.2 in c:\\users\\ahbur\\appdata\\local\\programs\\python\\python310\\lib\\site-packages (from pandas) (2.9.0.post0)\n",
      "Requirement already satisfied: pytz>=2020.1 in c:\\users\\ahbur\\appdata\\local\\programs\\python\\python310\\lib\\site-packages (from pandas) (2025.1)\n",
      "Requirement already satisfied: tzdata>=2022.7 in c:\\users\\ahbur\\appdata\\local\\programs\\python\\python310\\lib\\site-packages (from pandas) (2024.2)\n",
      "Requirement already satisfied: six>=1.5 in c:\\users\\ahbur\\appdata\\local\\programs\\python\\python310\\lib\\site-packages (from python-dateutil>=2.8.2->pandas) (1.17.0)\n"
     ]
    },
    {
     "name": "stderr",
     "output_type": "stream",
     "text": [
      "\n",
      "[notice] A new release of pip is available: 23.0.1 -> 25.0.1\n",
      "[notice] To update, run: python.exe -m pip install --upgrade pip\n"
     ]
    },
    {
     "name": "stdout",
     "output_type": "stream",
     "text": [
      "Requirement already satisfied: numpy in c:\\users\\ahbur\\appdata\\local\\programs\\python\\python310\\lib\\site-packages (2.1.3)\n"
     ]
    },
    {
     "name": "stderr",
     "output_type": "stream",
     "text": [
      "\n",
      "[notice] A new release of pip is available: 23.0.1 -> 25.0.1\n",
      "[notice] To update, run: python.exe -m pip install --upgrade pip\n"
     ]
    },
    {
     "name": "stdout",
     "output_type": "stream",
     "text": [
      "Requirement already satisfied: matplotlib in c:\\users\\ahbur\\appdata\\local\\programs\\python\\python310\\lib\\site-packages (3.10.0)\n",
      "Requirement already satisfied: cycler>=0.10 in c:\\users\\ahbur\\appdata\\local\\programs\\python\\python310\\lib\\site-packages (from matplotlib) (0.12.1)\n",
      "Requirement already satisfied: pyparsing>=2.3.1 in c:\\users\\ahbur\\appdata\\local\\programs\\python\\python310\\lib\\site-packages (from matplotlib) (3.2.1)\n",
      "Requirement already satisfied: python-dateutil>=2.7 in c:\\users\\ahbur\\appdata\\local\\programs\\python\\python310\\lib\\site-packages (from matplotlib) (2.9.0.post0)\n",
      "Requirement already satisfied: contourpy>=1.0.1 in c:\\users\\ahbur\\appdata\\local\\programs\\python\\python310\\lib\\site-packages (from matplotlib) (1.3.1)\n",
      "Requirement already satisfied: fonttools>=4.22.0 in c:\\users\\ahbur\\appdata\\local\\programs\\python\\python310\\lib\\site-packages (from matplotlib) (4.56.0)\n",
      "Requirement already satisfied: numpy>=1.23 in c:\\users\\ahbur\\appdata\\local\\programs\\python\\python310\\lib\\site-packages (from matplotlib) (2.1.3)\n",
      "Requirement already satisfied: packaging>=20.0 in c:\\users\\ahbur\\appdata\\roaming\\python\\python310\\site-packages (from matplotlib) (23.2)\n",
      "Requirement already satisfied: kiwisolver>=1.3.1 in c:\\users\\ahbur\\appdata\\local\\programs\\python\\python310\\lib\\site-packages (from matplotlib) (1.4.8)\n",
      "Requirement already satisfied: pillow>=8 in c:\\users\\ahbur\\appdata\\local\\programs\\python\\python310\\lib\\site-packages (from matplotlib) (11.1.0)\n",
      "Requirement already satisfied: six>=1.5 in c:\\users\\ahbur\\appdata\\local\\programs\\python\\python310\\lib\\site-packages (from python-dateutil>=2.7->matplotlib) (1.17.0)\n"
     ]
    },
    {
     "name": "stderr",
     "output_type": "stream",
     "text": [
      "\n",
      "[notice] A new release of pip is available: 23.0.1 -> 25.0.1\n",
      "[notice] To update, run: python.exe -m pip install --upgrade pip\n"
     ]
    },
    {
     "name": "stdout",
     "output_type": "stream",
     "text": [
      "Requirement already satisfied: seaborn in c:\\users\\ahbur\\appdata\\local\\programs\\python\\python310\\lib\\site-packages (0.13.2)\n",
      "Requirement already satisfied: pandas>=1.2 in c:\\users\\ahbur\\appdata\\local\\programs\\python\\python310\\lib\\site-packages (from seaborn) (2.2.3)\n",
      "Requirement already satisfied: matplotlib!=3.6.1,>=3.4 in c:\\users\\ahbur\\appdata\\local\\programs\\python\\python310\\lib\\site-packages (from seaborn) (3.10.0)\n",
      "Requirement already satisfied: numpy!=1.24.0,>=1.20 in c:\\users\\ahbur\\appdata\\local\\programs\\python\\python310\\lib\\site-packages (from seaborn) (2.1.3)\n",
      "Requirement already satisfied: fonttools>=4.22.0 in c:\\users\\ahbur\\appdata\\local\\programs\\python\\python310\\lib\\site-packages (from matplotlib!=3.6.1,>=3.4->seaborn) (4.56.0)\n",
      "Requirement already satisfied: pyparsing>=2.3.1 in c:\\users\\ahbur\\appdata\\local\\programs\\python\\python310\\lib\\site-packages (from matplotlib!=3.6.1,>=3.4->seaborn) (3.2.1)\n",
      "Requirement already satisfied: cycler>=0.10 in c:\\users\\ahbur\\appdata\\local\\programs\\python\\python310\\lib\\site-packages (from matplotlib!=3.6.1,>=3.4->seaborn) (0.12.1)\n",
      "Requirement already satisfied: kiwisolver>=1.3.1 in c:\\users\\ahbur\\appdata\\local\\programs\\python\\python310\\lib\\site-packages (from matplotlib!=3.6.1,>=3.4->seaborn) (1.4.8)\n",
      "Requirement already satisfied: pillow>=8 in c:\\users\\ahbur\\appdata\\local\\programs\\python\\python310\\lib\\site-packages (from matplotlib!=3.6.1,>=3.4->seaborn) (11.1.0)\n",
      "Requirement already satisfied: packaging>=20.0 in c:\\users\\ahbur\\appdata\\roaming\\python\\python310\\site-packages (from matplotlib!=3.6.1,>=3.4->seaborn) (23.2)\n",
      "Requirement already satisfied: contourpy>=1.0.1 in c:\\users\\ahbur\\appdata\\local\\programs\\python\\python310\\lib\\site-packages (from matplotlib!=3.6.1,>=3.4->seaborn) (1.3.1)\n",
      "Requirement already satisfied: python-dateutil>=2.7 in c:\\users\\ahbur\\appdata\\local\\programs\\python\\python310\\lib\\site-packages (from matplotlib!=3.6.1,>=3.4->seaborn) (2.9.0.post0)\n",
      "Requirement already satisfied: pytz>=2020.1 in c:\\users\\ahbur\\appdata\\local\\programs\\python\\python310\\lib\\site-packages (from pandas>=1.2->seaborn) (2025.1)\n",
      "Requirement already satisfied: tzdata>=2022.7 in c:\\users\\ahbur\\appdata\\local\\programs\\python\\python310\\lib\\site-packages (from pandas>=1.2->seaborn) (2024.2)\n",
      "Requirement already satisfied: six>=1.5 in c:\\users\\ahbur\\appdata\\local\\programs\\python\\python310\\lib\\site-packages (from python-dateutil>=2.7->matplotlib!=3.6.1,>=3.4->seaborn) (1.17.0)\n"
     ]
    },
    {
     "name": "stderr",
     "output_type": "stream",
     "text": [
      "\n",
      "[notice] A new release of pip is available: 23.0.1 -> 25.0.1\n",
      "[notice] To update, run: python.exe -m pip install --upgrade pip\n"
     ]
    }
   ],
   "source": [
    "!pip install pandas\n",
    "!pip install numpy\n",
    "!pip install matplotlib\n",
    "!pip install seaborn\n",
    "\n",
    "import pandas as pd\n",
    "import numpy as np\n",
    "import matplotlib.pyplot as plt\n",
    "import seaborn as sns"
   ]
  },
  {
   "cell_type": "markdown",
   "id": "880a4d2d-a8c5-41db-ad24-53bcd4265cc1",
   "metadata": {},
   "source": [
    "Then we load the data and do some basic exploration "
   ]
  },
  {
   "cell_type": "code",
   "execution_count": 9,
   "id": "89f716bd-f258-4ba9-8f77-88e165815d14",
   "metadata": {},
   "outputs": [
    {
     "name": "stdout",
     "output_type": "stream",
     "text": [
      "Train Shape: (595212, 59)\n",
      "Test Shape: (892816, 58)\n",
      "Train Data:\n",
      "    id  target  ps_ind_01  ps_ind_02_cat  ps_ind_03  ps_ind_04_cat  \\\n",
      "0   7       0          2              2          5              1   \n",
      "1   9       0          1              1          7              0   \n",
      "2  13       0          5              4          9              1   \n",
      "3  16       0          0              1          2              0   \n",
      "4  17       0          0              2          0              1   \n",
      "\n",
      "   ps_ind_05_cat  ps_ind_06_bin  ps_ind_07_bin  ps_ind_08_bin  ...  \\\n",
      "0              0              0              1              0  ...   \n",
      "1              0              0              0              1  ...   \n",
      "2              0              0              0              1  ...   \n",
      "3              0              1              0              0  ...   \n",
      "4              0              1              0              0  ...   \n",
      "\n",
      "   ps_calc_11  ps_calc_12  ps_calc_13  ps_calc_14  ps_calc_15_bin  \\\n",
      "0           9           1           5           8               0   \n",
      "1           3           1           1           9               0   \n",
      "2           4           2           7           7               0   \n",
      "3           2           2           4           9               0   \n",
      "4           3           1           1           3               0   \n",
      "\n",
      "   ps_calc_16_bin  ps_calc_17_bin  ps_calc_18_bin  ps_calc_19_bin  \\\n",
      "0               1               1               0               0   \n",
      "1               1               1               0               1   \n",
      "2               1               1               0               1   \n",
      "3               0               0               0               0   \n",
      "4               0               0               1               1   \n",
      "\n",
      "   ps_calc_20_bin  \n",
      "0               1  \n",
      "1               0  \n",
      "2               0  \n",
      "3               0  \n",
      "4               0  \n",
      "\n",
      "[5 rows x 59 columns]\n",
      "Test Data:\n",
      "    id  ps_ind_01  ps_ind_02_cat  ps_ind_03  ps_ind_04_cat  ps_ind_05_cat  \\\n",
      "0   0          0              1          8              1              0   \n",
      "1   1          4              2          5              1              0   \n",
      "2   2          5              1          3              0              0   \n",
      "3   3          0              1          6              0              0   \n",
      "4   4          5              1          7              0              0   \n",
      "\n",
      "   ps_ind_06_bin  ps_ind_07_bin  ps_ind_08_bin  ps_ind_09_bin  ...  \\\n",
      "0              0              1              0              0  ...   \n",
      "1              0              0              0              1  ...   \n",
      "2              0              0              0              1  ...   \n",
      "3              1              0              0              0  ...   \n",
      "4              0              0              0              1  ...   \n",
      "\n",
      "   ps_calc_11  ps_calc_12  ps_calc_13  ps_calc_14  ps_calc_15_bin  \\\n",
      "0           1           1           1          12               0   \n",
      "1           2           0           3          10               0   \n",
      "2           4           0           2           4               0   \n",
      "3           5           1           0           5               1   \n",
      "4           4           0           0           4               0   \n",
      "\n",
      "   ps_calc_16_bin  ps_calc_17_bin  ps_calc_18_bin  ps_calc_19_bin  \\\n",
      "0               1               1               0               0   \n",
      "1               0               1               1               0   \n",
      "2               0               0               0               0   \n",
      "3               0               1               0               0   \n",
      "4               1               1               0               0   \n",
      "\n",
      "   ps_calc_20_bin  \n",
      "0               1  \n",
      "1               1  \n",
      "2               0  \n",
      "3               0  \n",
      "4               1  \n",
      "\n",
      "[5 rows x 58 columns]\n",
      "Train Data Description:\n",
      "                  id         target      ps_ind_01  ps_ind_02_cat  \\\n",
      "count  5.952120e+05  595212.000000  595212.000000  595212.000000   \n",
      "mean   7.438036e+05       0.036448       1.900378       1.358943   \n",
      "std    4.293678e+05       0.187401       1.983789       0.664594   \n",
      "min    7.000000e+00       0.000000       0.000000      -1.000000   \n",
      "25%    3.719915e+05       0.000000       0.000000       1.000000   \n",
      "50%    7.435475e+05       0.000000       1.000000       1.000000   \n",
      "75%    1.115549e+06       0.000000       3.000000       2.000000   \n",
      "max    1.488027e+06       1.000000       7.000000       4.000000   \n",
      "\n",
      "           ps_ind_03  ps_ind_04_cat  ps_ind_05_cat  ps_ind_06_bin  \\\n",
      "count  595212.000000  595212.000000  595212.000000  595212.000000   \n",
      "mean        4.423318       0.416794       0.405188       0.393742   \n",
      "std         2.699902       0.493311       1.350642       0.488579   \n",
      "min         0.000000      -1.000000      -1.000000       0.000000   \n",
      "25%         2.000000       0.000000       0.000000       0.000000   \n",
      "50%         4.000000       0.000000       0.000000       0.000000   \n",
      "75%         6.000000       1.000000       0.000000       1.000000   \n",
      "max        11.000000       1.000000       6.000000       1.000000   \n",
      "\n",
      "       ps_ind_07_bin  ps_ind_08_bin  ...     ps_calc_11     ps_calc_12  \\\n",
      "count  595212.000000  595212.000000  ...  595212.000000  595212.000000   \n",
      "mean        0.257033       0.163921  ...       5.441382       1.441918   \n",
      "std         0.436998       0.370205  ...       2.332871       1.202963   \n",
      "min         0.000000       0.000000  ...       0.000000       0.000000   \n",
      "25%         0.000000       0.000000  ...       4.000000       1.000000   \n",
      "50%         0.000000       0.000000  ...       5.000000       1.000000   \n",
      "75%         1.000000       0.000000  ...       7.000000       2.000000   \n",
      "max         1.000000       1.000000  ...      19.000000      10.000000   \n",
      "\n",
      "          ps_calc_13     ps_calc_14  ps_calc_15_bin  ps_calc_16_bin  \\\n",
      "count  595212.000000  595212.000000   595212.000000   595212.000000   \n",
      "mean        2.872288       7.539026        0.122427        0.627840   \n",
      "std         1.694887       2.746652        0.327779        0.483381   \n",
      "min         0.000000       0.000000        0.000000        0.000000   \n",
      "25%         2.000000       6.000000        0.000000        0.000000   \n",
      "50%         3.000000       7.000000        0.000000        1.000000   \n",
      "75%         4.000000       9.000000        0.000000        1.000000   \n",
      "max        13.000000      23.000000        1.000000        1.000000   \n",
      "\n",
      "       ps_calc_17_bin  ps_calc_18_bin  ps_calc_19_bin  ps_calc_20_bin  \n",
      "count   595212.000000   595212.000000   595212.000000   595212.000000  \n",
      "mean         0.554182        0.287182        0.349024        0.153318  \n",
      "std          0.497056        0.452447        0.476662        0.360295  \n",
      "min          0.000000        0.000000        0.000000        0.000000  \n",
      "25%          0.000000        0.000000        0.000000        0.000000  \n",
      "50%          1.000000        0.000000        0.000000        0.000000  \n",
      "75%          1.000000        1.000000        1.000000        0.000000  \n",
      "max          1.000000        1.000000        1.000000        1.000000  \n",
      "\n",
      "[8 rows x 59 columns]\n",
      "Test Data Description:\n",
      "                  id      ps_ind_01  ps_ind_02_cat      ps_ind_03  \\\n",
      "count  8.928160e+05  892816.000000  892816.000000  892816.000000   \n",
      "mean   7.441535e+05       1.902371       1.358613       4.413734   \n",
      "std    4.296830e+05       1.986503       0.663002       2.700149   \n",
      "min    0.000000e+00       0.000000      -1.000000       0.000000   \n",
      "25%    3.720218e+05       0.000000       1.000000       2.000000   \n",
      "50%    7.443070e+05       1.000000       1.000000       4.000000   \n",
      "75%    1.116308e+06       3.000000       2.000000       6.000000   \n",
      "max    1.488026e+06       7.000000       4.000000      11.000000   \n",
      "\n",
      "       ps_ind_04_cat  ps_ind_05_cat  ps_ind_06_bin  ps_ind_07_bin  \\\n",
      "count  892816.000000  892816.000000  892816.000000  892816.000000   \n",
      "mean        0.417361       0.408132       0.393246       0.257191   \n",
      "std         0.493453       1.355068       0.488471       0.437086   \n",
      "min        -1.000000      -1.000000       0.000000       0.000000   \n",
      "25%         0.000000       0.000000       0.000000       0.000000   \n",
      "50%         0.000000       0.000000       0.000000       0.000000   \n",
      "75%         1.000000       0.000000       1.000000       1.000000   \n",
      "max         1.000000       6.000000       1.000000       1.000000   \n",
      "\n",
      "       ps_ind_08_bin  ps_ind_09_bin  ...     ps_calc_11     ps_calc_12  \\\n",
      "count  892816.000000  892816.000000  ...  892816.000000  892816.000000   \n",
      "mean        0.163659       0.185905  ...       5.438478       1.440265   \n",
      "std         0.369966       0.389030  ...       2.330081       1.200620   \n",
      "min         0.000000       0.000000  ...       0.000000       0.000000   \n",
      "25%         0.000000       0.000000  ...       4.000000       1.000000   \n",
      "50%         0.000000       0.000000  ...       5.000000       1.000000   \n",
      "75%         0.000000       0.000000  ...       7.000000       2.000000   \n",
      "max         1.000000       1.000000  ...      20.000000      11.000000   \n",
      "\n",
      "          ps_calc_13     ps_calc_14  ps_calc_15_bin  ps_calc_16_bin  \\\n",
      "count  892816.000000  892816.000000   892816.000000   892816.000000   \n",
      "mean        2.875013       7.540367        0.123720        0.627756   \n",
      "std         1.694072       2.745882        0.329262        0.483403   \n",
      "min         0.000000       0.000000        0.000000        0.000000   \n",
      "25%         2.000000       6.000000        0.000000        0.000000   \n",
      "50%         3.000000       7.000000        0.000000        1.000000   \n",
      "75%         4.000000       9.000000        0.000000        1.000000   \n",
      "max        15.000000      28.000000        1.000000        1.000000   \n",
      "\n",
      "       ps_calc_17_bin  ps_calc_18_bin  ps_calc_19_bin  ps_calc_20_bin  \n",
      "count   892816.000000   892816.000000   892816.000000   892816.000000  \n",
      "mean         0.554660        0.287796        0.349344        0.152428  \n",
      "std          0.497004        0.452736        0.476763        0.359435  \n",
      "min          0.000000        0.000000        0.000000        0.000000  \n",
      "25%          0.000000        0.000000        0.000000        0.000000  \n",
      "50%          1.000000        0.000000        0.000000        0.000000  \n",
      "75%          1.000000        1.000000        1.000000        0.000000  \n",
      "max          1.000000        1.000000        1.000000        1.000000  \n",
      "\n",
      "[8 rows x 58 columns]\n",
      "\n",
      "Missing Values in Train Data:\n",
      "ps_car_03_cat    411231\n",
      "ps_car_05_cat    266551\n",
      "ps_reg_03        107772\n",
      "ps_car_14         42620\n",
      "ps_car_07_cat     11489\n",
      "ps_ind_05_cat      5809\n",
      "ps_car_09_cat       569\n",
      "ps_ind_02_cat       216\n",
      "ps_car_01_cat       107\n",
      "ps_ind_04_cat        83\n",
      "ps_car_02_cat         5\n",
      "ps_car_11             5\n",
      "ps_car_12             1\n",
      "dtype: int64\n"
     ]
    },
    {
     "data": {
      "image/png": "[encoded data removed]",
      "text/plain": [
       "<Figure size 640x480 with 1 Axes>"
      ]
     },
     "metadata": {},
     "output_type": "display_data"
    }
   ],
   "source": [
    "train = pd.read_csv(\"train.csv\")\n",
    "test = pd.read_csv(\"test.csv\")\n",
    "\n",
    "# Check data structure\n",
    "print(\"Train Shape:\", train.shape)\n",
    "print(\"Test Shape:\", test.shape)\n",
    "\n",
    "#look at the first couple lines of data in the structures\n",
    "print(\"Train Data:\\n\", train.head())\n",
    "print(\"Test Data:\\n\", test.head())\n",
    "\n",
    "#Description of test and train data\n",
    "print(\"Train Data Description:\\n\", train.describe())\n",
    "print(\"Test Data Description:\\n\", test.describe())\n",
    "\n",
    "# Count missing values (-1) in each column\n",
    "missing_values = (train == -1).sum()\n",
    "\n",
    "print(\"\\nMissing Values in Train Data:\")\n",
    "print(missing_values[missing_values > 0].sort_values(ascending=False))\n",
    "\n",
    "# Check target distribution (imbalance)\n",
    "sns.countplot(x=train[\"target\"])\n",
    "plt.title(\"Target Distribution\")\n",
    "plt.show()"
   ]
  },
  {
   "cell_type": "markdown",
   "id": "586b264b-02b1-4637-8d7e-fe1d17fca580",
   "metadata": {},
   "source": [
    "This data is a little hard to do in depth analysis on becuase the data provider has already normalized and changed a bunch of the values for us. This means that all the data is already represented as a number so we don't have to deal with strings or categorical data. Although from the kaggle description we do know some of what the data represents. For example the data that ends in cat is categorical data, bin represents binary data, and features without without either of those are either continuous or ordinal.\n",
    "\n",
    "We also can see that the data very heavily favors 0 in the target meaning that our models will probably want to favor 0 as the prediction unless we make an effort to change that."
   ]
  },
  {
   "cell_type": "code",
   "execution_count": 10,
   "id": "c7d38d79-9552-43d4-83b7-aa44b2645d55",
   "metadata": {},
   "outputs": [],
   "source": [
    "#Preprocess the data\n",
    "# Assuming the target column is named 'target' and features are in other columns\n",
    "X_train = train.drop(columns=['target']).values\n",
    "y_train = train['target'].values\n",
    "\n",
    "X_test = test.drop(columns=['target']).values if 'target' in test else test.values\n",
    "y_test = test['target'].values if 'target' in test else None\n",
    "\n",
    "# Normalize features\n",
    "X_train = (X_train - np.mean(X_train, axis=0)) / np.std(X_train, axis=0)\n",
    "if X_test is not None:\n",
    "    X_test = (X_test - np.mean(X_test, axis=0)) / np.std(X_test, axis=0)\n"
   ]
  },
  {
   "cell_type": "markdown",
   "id": "8a5cb7f8-dbf3-47c5-a713-318a71e76fd9",
   "metadata": {},
   "source": [
    "We did the following to remove any missing data to give us a full data set to use. We replaced missing values with the median values for the feature. We also did some basic feature processing on the data."
   ]
  },
  {
   "cell_type": "markdown",
   "id": "927e14d5-3d62-46b2-9b8f-7e329aec0971",
   "metadata": {},
   "source": [
    "Here are the functions for a basic regression model we are going to run on the data"
   ]
  },
  {
   "cell_type": "code",
   "execution_count": 11,
   "id": "b960dc6f-7ec9-407b-bb74-13b4877fbdf3",
   "metadata": {},
   "outputs": [],
   "source": [
    "#Logistic Regression model(without regularization)\n",
    "def sigmoid(z):\n",
    "    return 1 / (1 + np.exp(-z))\n",
    "\n",
    "def compute_cost(X, y, weights):\n",
    "    m = len(y)\n",
    "    predictions = sigmoid(np.dot(X, weights))\n",
    "    cost = -(1/m) * np.sum(y * np.log(predictions) + (1 - y) * np.log(1 - predictions))\n",
    "    return cost\n",
    "\n",
    "def gradient_descent(X, y, weights, learning_rate, iterations):\n",
    "    m = len(y)\n",
    "    for i in range(iterations):\n",
    "        predictions = sigmoid(np.dot(X, weights))\n",
    "        gradient = np.dot(X.T, (predictions - y)) / m\n",
    "        weights -= learning_rate * gradient\n",
    "        if i % 100 == 0:\n",
    "            print(f\"Iteration {i}: Cost {compute_cost(X, y, weights)}\")\n",
    "    return weights\n"
   ]
  },
  {
   "cell_type": "markdown",
   "id": "54ede7ef-f77e-46f1-89b8-88595e40f2a0",
   "metadata": {},
   "source": [
    "Now we train the basic regression model"
   ]
  },
  {
   "cell_type": "code",
   "execution_count": 12,
   "id": "22abaea9-be6f-45ab-882c-b757c732fbff",
   "metadata": {},
   "outputs": [
    {
     "name": "stdout",
     "output_type": "stream",
     "text": [
      "Iteration 0: Cost 0.6909939339984333\n",
      "Iteration 100: Cost 0.5219232594570349\n",
      "Iteration 200: Cost 0.41733747940939536\n",
      "Iteration 300: Cost 0.3499475526044885\n",
      "Iteration 400: Cost 0.3045705124876016\n",
      "Iteration 500: Cost 0.2727598500850446\n",
      "Iteration 600: Cost 0.24967118426110543\n",
      "Iteration 700: Cost 0.232413589440209\n",
      "Iteration 800: Cost 0.21919137245317347\n",
      "Iteration 900: Cost 0.20884692215052367\n"
     ]
    }
   ],
   "source": [
    "# Add a bias term to the features\n",
    "X_train = np.c_[np.ones((X_train.shape[0], 1)), X_train]\n",
    "weights = np.zeros(X_train.shape[1])\n",
    "\n",
    "# Hyperparameters\n",
    "learning_rate = 0.01\n",
    "iterations = 1000\n",
    "\n",
    "# Train the model\n",
    "weights = gradient_descent(X_train, y_train, weights, learning_rate, iterations)"
   ]
  },
  {
   "cell_type": "markdown",
   "id": "a3abe260",
   "metadata": {},
   "source": [
    "Now , let's evaluate the model on the test set and create a submission for it:"
   ]
  },
  {
   "cell_type": "code",
   "execution_count": 13,
   "id": "bde35be4-9717-4692-8231-696daa3aefa2",
   "metadata": {},
   "outputs": [
    {
     "name": "stdout",
     "output_type": "stream",
     "text": [
      "Submission file 'submission.csv' created successfully.\n"
     ]
    }
   ],
   "source": [
    "if y_test is None:  # Assuming test data does not have target labels\n",
    "    # Ensure the test dataset has an ID column\n",
    "    if 'id' in test.columns:\n",
    "        ids = test['id'].values\n",
    "    else:\n",
    "        raise ValueError(\"The test dataset must contain an 'ID' column for submission.\")\n",
    "\n",
    "    # Add a bias term to the test features\n",
    "    X_test = np.c_[np.ones((X_test.shape[0], 1)), X_test]\n",
    "\n",
    "    # Calculate probabilities using the sigmoid function\n",
    "    probabilities = sigmoid(np.dot(X_test, weights))\n",
    "\n",
    "    # Create a DataFrame for submission\n",
    "    submission = pd.DataFrame({\n",
    "        'id': ids,\n",
    "        'target': probabilities\n",
    "    })\n",
    "\n",
    "    # Save the submission file\n",
    "    submission.to_csv('submission.csv', index=False)\n",
    "    print(\"Submission file 'submission.csv' created successfully.\")\n",
    "else:\n",
    "    print(\"Test dataset contains target labels. No submission file created.\")"
   ]
  },
  {
   "cell_type": "markdown",
   "id": "27182c52",
   "metadata": {},
   "source": [
    "This submission got a score of 0.2499 which is much better than our dummy submission which got a score of 0.004"
   ]
  },
  {
   "cell_type": "code",
   "execution_count": null,
   "id": "dbd37339-b0d9-496a-b8ff-1f40ac866f4b",
   "metadata": {},
   "outputs": [],
   "source": []
  }
 ],
 "metadata": {
  "kernelspec": {
   "display_name": "Python 3 (ipykernel)",
   "language": "python",
   "name": "python3"
  },
  "language_info": {
   "codemirror_mode": {
    "name": "ipython",
    "version": 3
   },
   "file_extension": ".py",
   "mimetype": "text/x-python",
   "name": "python",
   "nbconvert_exporter": "python",
   "pygments_lexer": "ipython3",
   "version": "3.10.6"
  }
 },
 "nbformat": 4,
 "nbformat_minor": 5
}
